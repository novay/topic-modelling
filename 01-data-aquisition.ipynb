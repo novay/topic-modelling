{
 "cells": [
  {
   "attachments": {},
   "cell_type": "markdown",
   "metadata": {},
   "source": [
    "## **1. Data Acquisition**"
   ]
  },
  {
   "attachments": {},
   "cell_type": "markdown",
   "metadata": {},
   "source": [
    "#### **Step 1. Using Frasa**"
   ]
  },
  {
   "attachments": {},
   "cell_type": "markdown",
   "metadata": {},
   "source": [
    "Untuk melakukan crawling lirik lagu, kami menambahkan modul crawling pada library **Frasa (0.1.58)**."
   ]
  },
  {
   "cell_type": "code",
   "execution_count": 1,
   "metadata": {},
   "outputs": [],
   "source": [
    "# %pip install frasa==0.1.58"
   ]
  },
  {
   "attachments": {},
   "cell_type": "markdown",
   "metadata": {},
   "source": [
    "#### **Step 2. Import & Define Artist**\n",
    "\n",
    "Import library dan siapkan nama artis yang ingin di unduh lirik-lirik lagunya."
   ]
  },
  {
   "cell_type": "code",
   "execution_count": 11,
   "metadata": {},
   "outputs": [],
   "source": [
    "from slugify import slugify\n",
    "\n",
    "artist_name = 'Avenged Sevenfold'\n",
    "artist_slug = slugify(artist_name)"
   ]
  },
  {
   "attachments": {},
   "cell_type": "markdown",
   "metadata": {},
   "source": [
    "#### **Step 3. Scraping List of Song**\n",
    "\n",
    "Lakukan penarikan data menggunakan pustaka **frasa** sesuai dengan nama artis yang sudah di definisikan sebelumnya."
   ]
  },
  {
   "cell_type": "code",
   "execution_count": 12,
   "metadata": {},
   "outputs": [
    {
     "name": "stdout",
     "output_type": "stream",
     "text": [
      "Total Lagu: 116\n"
     ]
    }
   ],
   "source": [
    "from frasa.azlyrics import azlyrics\n",
    "import pandas as pd\n",
    "\n",
    "api = azlyrics()\n",
    "api.artist = artist_name\n",
    "lists = api.lagu()\n",
    " \n",
    "df = pd.DataFrame.from_dict(lists, orient='index')\n",
    "df.index.name = 'Judul'\n",
    "\n",
    "print(\"Total Lagu: \" + str(len(df)))"
   ]
  },
  {
   "attachments": {},
   "cell_type": "markdown",
   "metadata": {},
   "source": [
    "Dari proses diatas, ditemukan sebanyak 116 lirik lagu dari Avenged Sevenfold yang di deteksi. Berikut ini tabelnya:"
   ]
  },
  {
   "cell_type": "code",
   "execution_count": 14,
   "metadata": {},
   "outputs": [
    {
     "data": {
      "text/html": [
       "<div>\n",
       "<style scoped>\n",
       "    .dataframe tbody tr th:only-of-type {\n",
       "        vertical-align: middle;\n",
       "    }\n",
       "\n",
       "    .dataframe tbody tr th {\n",
       "        vertical-align: top;\n",
       "    }\n",
       "\n",
       "    .dataframe thead th {\n",
       "        text-align: right;\n",
       "    }\n",
       "</style>\n",
       "<table border=\"1\" class=\"dataframe\">\n",
       "  <thead>\n",
       "    <tr style=\"text-align: right;\">\n",
       "      <th></th>\n",
       "      <th>year</th>\n",
       "      <th>album</th>\n",
       "      <th>type</th>\n",
       "      <th>url</th>\n",
       "    </tr>\n",
       "    <tr>\n",
       "      <th>Judul</th>\n",
       "      <th></th>\n",
       "      <th></th>\n",
       "      <th></th>\n",
       "      <th></th>\n",
       "    </tr>\n",
       "  </thead>\n",
       "  <tbody>\n",
       "    <tr>\n",
       "      <th>To End The Rapture</th>\n",
       "      <td>2001</td>\n",
       "      <td>Sounding The Seventh Trumpet</td>\n",
       "      <td>album</td>\n",
       "      <td>http://www.azlyrics.com/lyrics/avengedsevenfol...</td>\n",
       "    </tr>\n",
       "    <tr>\n",
       "      <th>Turn The Other Way</th>\n",
       "      <td>2001</td>\n",
       "      <td>Sounding The Seventh Trumpet</td>\n",
       "      <td>album</td>\n",
       "      <td>http://www.azlyrics.com/lyrics/avengedsevenfol...</td>\n",
       "    </tr>\n",
       "    <tr>\n",
       "      <th>Darkness Surrounding</th>\n",
       "      <td>2001</td>\n",
       "      <td>Sounding The Seventh Trumpet</td>\n",
       "      <td>album</td>\n",
       "      <td>http://www.azlyrics.com/lyrics/avengedsevenfol...</td>\n",
       "    </tr>\n",
       "    <tr>\n",
       "      <th>The Art Of Subconscious Illusion</th>\n",
       "      <td>2001</td>\n",
       "      <td>Sounding The Seventh Trumpet</td>\n",
       "      <td>album</td>\n",
       "      <td>http://www.azlyrics.com/lyrics/avengedsevenfol...</td>\n",
       "    </tr>\n",
       "    <tr>\n",
       "      <th>We Come Out At Night</th>\n",
       "      <td>2001</td>\n",
       "      <td>Sounding The Seventh Trumpet</td>\n",
       "      <td>album</td>\n",
       "      <td>http://www.azlyrics.com/lyrics/avengedsevenfol...</td>\n",
       "    </tr>\n",
       "  </tbody>\n",
       "</table>\n",
       "</div>"
      ],
      "text/plain": [
       "                                  year                         album   type  \\\n",
       "Judul                                                                         \n",
       "To End The Rapture                2001  Sounding The Seventh Trumpet  album   \n",
       "Turn The Other Way                2001  Sounding The Seventh Trumpet  album   \n",
       "Darkness Surrounding              2001  Sounding The Seventh Trumpet  album   \n",
       "The Art Of Subconscious Illusion  2001  Sounding The Seventh Trumpet  album   \n",
       "We Come Out At Night              2001  Sounding The Seventh Trumpet  album   \n",
       "\n",
       "                                                                                url  \n",
       "Judul                                                                                \n",
       "To End The Rapture                http://www.azlyrics.com/lyrics/avengedsevenfol...  \n",
       "Turn The Other Way                http://www.azlyrics.com/lyrics/avengedsevenfol...  \n",
       "Darkness Surrounding              http://www.azlyrics.com/lyrics/avengedsevenfol...  \n",
       "The Art Of Subconscious Illusion  http://www.azlyrics.com/lyrics/avengedsevenfol...  \n",
       "We Come Out At Night              http://www.azlyrics.com/lyrics/avengedsevenfol...  "
      ]
     },
     "execution_count": 14,
     "metadata": {},
     "output_type": "execute_result"
    }
   ],
   "source": [
    "df.head()"
   ]
  },
  {
   "attachments": {},
   "cell_type": "markdown",
   "metadata": {},
   "source": [
    "Selanjutnya urutkan data berdasaarkan `Judul`-nya dan simpan sebagai file `csv` di direktori `unduhan`."
   ]
  },
  {
   "cell_type": "code",
   "execution_count": 15,
   "metadata": {},
   "outputs": [],
   "source": [
    "df = df.sort_values('Judul')\n",
    "df.to_csv(f'unduhan/{artist_slug}.csv')"
   ]
  },
  {
   "attachments": {},
   "cell_type": "markdown",
   "metadata": {},
   "source": [
    "#### **Step 4. Scraping Lyrics**\n",
    "\n",
    "Terakhir, unduh semua lirik dari seluruh daftar lagu yang terdeteksi menggunakan **frasa**."
   ]
  },
  {
   "cell_type": "code",
   "execution_count": 16,
   "metadata": {},
   "outputs": [
    {
     "name": "stdout",
     "output_type": "stream",
     "text": [
      "Lirik berhasil di unduh.\n"
     ]
    }
   ],
   "source": [
    "import os \n",
    "\n",
    "judul_data = df.index.tolist()\n",
    "\n",
    "for judul in judul_data:\n",
    "    slug = slugify(judul)\n",
    "    \n",
    "    lirik = azlyrics()\n",
    "    lirik.artist = artist_name\n",
    "    lirik.title = judul\n",
    "    \n",
    "    file_path = f\"unduhan/{artist_slug}/{slug}.txt\"\n",
    "    if os.path.exists(file_path):\n",
    "        print(\"Lirik sudah ada. Lanjut.\")\n",
    "    else:\n",
    "        with open(file_path, 'w') as txtfile:\n",
    "            txtfile.write(str(lirik.lirik()))\n",
    "\n",
    "print('Lirik berhasil di unduh.')"
   ]
  },
  {
   "attachments": {},
   "cell_type": "markdown",
   "metadata": {},
   "source": [
    "Setelah proses ini dilakukan, kami memiliki direktori file baru berikut:\n",
    "\n",
    "- ``unduhan/avenged-sevenfold.csv``\n",
    "- ``unduhan/avenged-sevenfold/*.txt``"
   ]
  }
 ],
 "metadata": {
  "kernelspec": {
   "display_name": "Python 3",
   "language": "python",
   "name": "python3"
  },
  "language_info": {
   "codemirror_mode": {
    "name": "ipython",
    "version": 3
   },
   "file_extension": ".py",
   "mimetype": "text/x-python",
   "name": "python",
   "nbconvert_exporter": "python",
   "pygments_lexer": "ipython3",
   "version": "3.11.3"
  },
  "orig_nbformat": 4
 },
 "nbformat": 4,
 "nbformat_minor": 2
}
