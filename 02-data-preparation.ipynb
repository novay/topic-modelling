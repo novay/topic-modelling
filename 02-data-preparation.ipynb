{
 "cells": [
  {
   "attachments": {},
   "cell_type": "markdown",
   "metadata": {},
   "source": [
    "## **2. Data Preparation**"
   ]
  },
  {
   "attachments": {},
   "cell_type": "markdown",
   "metadata": {},
   "source": [
    "#### **Step 2.1 Read Songs**"
   ]
  },
  {
   "cell_type": "code",
   "execution_count": 4,
   "metadata": {},
   "outputs": [
    {
     "data": {
      "text/html": [
       "<div>\n",
       "<style scoped>\n",
       "    .dataframe tbody tr th:only-of-type {\n",
       "        vertical-align: middle;\n",
       "    }\n",
       "\n",
       "    .dataframe tbody tr th {\n",
       "        vertical-align: top;\n",
       "    }\n",
       "\n",
       "    .dataframe thead th {\n",
       "        text-align: right;\n",
       "    }\n",
       "</style>\n",
       "<table border=\"1\" class=\"dataframe\">\n",
       "  <thead>\n",
       "    <tr style=\"text-align: right;\">\n",
       "      <th></th>\n",
       "      <th>Judul</th>\n",
       "      <th>year</th>\n",
       "      <th>album</th>\n",
       "      <th>type</th>\n",
       "      <th>url</th>\n",
       "    </tr>\n",
       "  </thead>\n",
       "  <tbody>\n",
       "    <tr>\n",
       "      <th>0</th>\n",
       "      <td>(D)eath</td>\n",
       "      <td>2023.0</td>\n",
       "      <td>Life Is But A Dream…</td>\n",
       "      <td>album</td>\n",
       "      <td>http://www.azlyrics.com/lyrics/avengedsevenfol...</td>\n",
       "    </tr>\n",
       "    <tr>\n",
       "      <th>1</th>\n",
       "      <td>(O)rdinary</td>\n",
       "      <td>2023.0</td>\n",
       "      <td>Life Is But A Dream…</td>\n",
       "      <td>album</td>\n",
       "      <td>http://www.azlyrics.com/lyrics/avengedsevenfol...</td>\n",
       "    </tr>\n",
       "    <tr>\n",
       "      <th>2</th>\n",
       "      <td>4:00 AM</td>\n",
       "      <td>2008.0</td>\n",
       "      <td>Diamonds In The Rough</td>\n",
       "      <td>compilation</td>\n",
       "      <td>http://www.azlyrics.com/lyrics/avengedsevenfol...</td>\n",
       "    </tr>\n",
       "    <tr>\n",
       "      <th>3</th>\n",
       "      <td>A Little Piece Of Heaven</td>\n",
       "      <td>2007.0</td>\n",
       "      <td>Avenged Sevenfold</td>\n",
       "      <td>album</td>\n",
       "      <td>http://www.azlyrics.com/lyrics/avengedsevenfol...</td>\n",
       "    </tr>\n",
       "    <tr>\n",
       "      <th>4</th>\n",
       "      <td>Acid Rain</td>\n",
       "      <td>2013.0</td>\n",
       "      <td>Hail To The King</td>\n",
       "      <td>album</td>\n",
       "      <td>http://www.azlyrics.com/lyrics/avengedsevenfol...</td>\n",
       "    </tr>\n",
       "  </tbody>\n",
       "</table>\n",
       "</div>"
      ],
      "text/plain": [
       "                      Judul    year                  album         type  \\\n",
       "0                   (D)eath  2023.0   Life Is But A Dream…        album   \n",
       "1                (O)rdinary  2023.0   Life Is But A Dream…        album   \n",
       "2                   4:00 AM  2008.0  Diamonds In The Rough  compilation   \n",
       "3  A Little Piece Of Heaven  2007.0      Avenged Sevenfold        album   \n",
       "4                 Acid Rain  2013.0       Hail To The King        album   \n",
       "\n",
       "                                                 url  \n",
       "0  http://www.azlyrics.com/lyrics/avengedsevenfol...  \n",
       "1  http://www.azlyrics.com/lyrics/avengedsevenfol...  \n",
       "2  http://www.azlyrics.com/lyrics/avengedsevenfol...  \n",
       "3  http://www.azlyrics.com/lyrics/avengedsevenfol...  \n",
       "4  http://www.azlyrics.com/lyrics/avengedsevenfol...  "
      ]
     },
     "execution_count": 4,
     "metadata": {},
     "output_type": "execute_result"
    }
   ],
   "source": [
    "import os\n",
    "import pandas as pd\n",
    "from slugify import slugify\n",
    "\n",
    "artist_name = 'Avenged Sevenfold'\n",
    "artist_slug = slugify(artist_name)\n",
    "\n",
    "df = pd.read_csv(f'unduhan/{artist_slug}.csv')\n",
    "df = df.sort_values('Judul')\n",
    "\n",
    "df.head()"
   ]
  },
  {
   "attachments": {},
   "cell_type": "markdown",
   "metadata": {},
   "source": [
    "#### **Step 2.2 Merge Lyrics**"
   ]
  },
  {
   "cell_type": "code",
   "execution_count": 5,
   "metadata": {},
   "outputs": [
    {
     "data": {
      "text/html": [
       "<div>\n",
       "<style scoped>\n",
       "    .dataframe tbody tr th:only-of-type {\n",
       "        vertical-align: middle;\n",
       "    }\n",
       "\n",
       "    .dataframe tbody tr th {\n",
       "        vertical-align: top;\n",
       "    }\n",
       "\n",
       "    .dataframe thead th {\n",
       "        text-align: right;\n",
       "    }\n",
       "</style>\n",
       "<table border=\"1\" class=\"dataframe\">\n",
       "  <thead>\n",
       "    <tr style=\"text-align: right;\">\n",
       "      <th></th>\n",
       "      <th>Judul</th>\n",
       "      <th>album</th>\n",
       "      <th>Lirik</th>\n",
       "    </tr>\n",
       "  </thead>\n",
       "  <tbody>\n",
       "    <tr>\n",
       "      <th>111</th>\n",
       "      <td>Warmness On The Soul</td>\n",
       "      <td>Sounding The Seventh Trumpet</td>\n",
       "      <td>We keep writing, talking and planning, but eve...</td>\n",
       "    </tr>\n",
       "    <tr>\n",
       "      <th>112</th>\n",
       "      <td>We Come Out At Night</td>\n",
       "      <td>Sounding The Seventh Trumpet</td>\n",
       "      <td>I sit stoic\\nTouch of the divine upon my neck\\...</td>\n",
       "    </tr>\n",
       "    <tr>\n",
       "      <th>113</th>\n",
       "      <td>We Love You</td>\n",
       "      <td>Life Is But A Dream…</td>\n",
       "      <td>I feel insane\\nEvery single time I'm asked to ...</td>\n",
       "    </tr>\n",
       "    <tr>\n",
       "      <th>114</th>\n",
       "      <td>Welcome To The Family</td>\n",
       "      <td>Nightmare</td>\n",
       "      <td>Man's becoming more corrupt now, godless, wick...</td>\n",
       "    </tr>\n",
       "    <tr>\n",
       "      <th>115</th>\n",
       "      <td>Wish You Were Here</td>\n",
       "      <td>The Stage</td>\n",
       "      <td>Standing in the shade of altruism, answering t...</td>\n",
       "    </tr>\n",
       "  </tbody>\n",
       "</table>\n",
       "</div>"
      ],
      "text/plain": [
       "                     Judul                         album  \\\n",
       "111   Warmness On The Soul  Sounding The Seventh Trumpet   \n",
       "112   We Come Out At Night  Sounding The Seventh Trumpet   \n",
       "113            We Love You          Life Is But A Dream…   \n",
       "114  Welcome To The Family                     Nightmare   \n",
       "115     Wish You Were Here                     The Stage   \n",
       "\n",
       "                                                 Lirik  \n",
       "111  We keep writing, talking and planning, but eve...  \n",
       "112  I sit stoic\\nTouch of the divine upon my neck\\...  \n",
       "113  I feel insane\\nEvery single time I'm asked to ...  \n",
       "114  Man's becoming more corrupt now, godless, wick...  \n",
       "115  Standing in the shade of altruism, answering t...  "
      ]
     },
     "execution_count": 5,
     "metadata": {},
     "output_type": "execute_result"
    }
   ],
   "source": [
    "folder_path = f'unduhan/{artist_slug}'\n",
    "lyrics = []\n",
    "\n",
    "for file_name in os.listdir(folder_path):\n",
    "    if file_name.endswith('.txt'):\n",
    "        file_path = os.path.join(folder_path, file_name)\n",
    "        with open(file_path, 'r') as file:\n",
    "            text = file.read()\n",
    "            lyrics.append(text)\n",
    "\n",
    "df['Lirik'] = lyrics\n",
    "df = df.drop(columns=['year', 'type', 'url'])\n",
    "df = df.dropna()\n",
    "\n",
    "df.tail()"
   ]
  },
  {
   "attachments": {},
   "cell_type": "markdown",
   "metadata": {},
   "source": [
    "Simpan sebagai file baru dengan separator `\";\"` untuk menghindari penggunaan koma `(,)` dalam lirik.\n",
    "\n",
    "<small>Tentunya kami sudah memastikan tidak ada penggunaan `\";\"` pada lirik yang diunduh</small>"
   ]
  },
  {
   "cell_type": "code",
   "execution_count": 6,
   "metadata": {},
   "outputs": [],
   "source": [
    "df.to_csv(f'unduhan/{artist_slug}-with-lyrics.csv', sep=\";\")"
   ]
  },
  {
   "attachments": {},
   "cell_type": "markdown",
   "metadata": {},
   "source": [
    "#### **(Opsional)**\n",
    "\n",
    "Kami berencana untuk melakukan analisis kata setiap masing-masing albumnya."
   ]
  },
  {
   "cell_type": "code",
   "execution_count": 7,
   "metadata": {},
   "outputs": [
    {
     "name": "stdout",
     "output_type": "stream",
     "text": [
      "+------+------------------------------+\n",
      "|   No | Nama Album                   |\n",
      "+======+==============================+\n",
      "|    1 | Life Is But A Dream…         |\n",
      "+------+------------------------------+\n",
      "|    2 | Diamonds In The Rough        |\n",
      "+------+------------------------------+\n",
      "|    3 | Avenged Sevenfold            |\n",
      "+------+------------------------------+\n",
      "|    4 | Hail To The King             |\n",
      "+------+------------------------------+\n",
      "|    5 | Sounding The Seventh Trumpet |\n",
      "+------+------------------------------+\n",
      "|    6 | Waking The Fallen            |\n",
      "+------+------------------------------+\n",
      "|    7 | The Stage                    |\n",
      "+------+------------------------------+\n",
      "|    8 | City Of Evil                 |\n",
      "+------+------------------------------+\n",
      "|    9 | Nightmare                    |\n",
      "+------+------------------------------+\n",
      "|   10 | Black Reign                  |\n",
      "+------+------------------------------+\n"
     ]
    }
   ],
   "source": [
    "from tabulate import tabulate\n",
    "\n",
    "album_list = df['album'].unique()\n",
    "\n",
    "for album in album_list:\n",
    "    album_data = df[df['album'] == album]\n",
    "    album_data.to_csv(f'unduhan/{artist_slug}/album/{album}.csv', index=False, sep=\";\")\n",
    "    \n",
    "table = []\n",
    "for i, j in enumerate(album_list, start=1):\n",
    "    table.append([i, j])\n",
    "\n",
    "headers = [\"No\", \"Nama Album\"]\n",
    "print(tabulate(table, headers, tablefmt=\"grid\"))"
   ]
  }
 ],
 "metadata": {
  "kernelspec": {
   "display_name": "Python 3",
   "language": "python",
   "name": "python3"
  },
  "language_info": {
   "codemirror_mode": {
    "name": "ipython",
    "version": 3
   },
   "file_extension": ".py",
   "mimetype": "text/x-python",
   "name": "python",
   "nbconvert_exporter": "python",
   "pygments_lexer": "ipython3",
   "version": "3.11.3"
  },
  "orig_nbformat": 4
 },
 "nbformat": 4,
 "nbformat_minor": 2
}
