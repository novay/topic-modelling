{
 "cells": [
  {
   "attachments": {},
   "cell_type": "markdown",
   "metadata": {},
   "source": [
    "## **6. Evaluasi**"
   ]
  },
  {
   "attachments": {},
   "cell_type": "markdown",
   "metadata": {},
   "source": [
    "Dalam *Topic Modelling*, untuk menilai kualitas suatu model umumnya dapat menggunakan skor koherensi. Dimana, koherensi topik ini akan mengukur sejauh mana topik-topik yang dihasilkan konsisten dan bermakna secara semantik.\n",
    "\n",
    "Dalam implementasinya, kami menggunakan pustaka **gensim** dengan **C_v** sebagai metodenya."
   ]
  },
  {
   "cell_type": "code",
   "execution_count": 29,
   "metadata": {},
   "outputs": [],
   "source": [
    "import pickle\n",
    "\n",
    "with open('pickle/lda_model.pkl', 'rb') as f:\n",
    "    lda_model = pickle.load(f)\n",
    "\n",
    "with open('pickle/tokenized.pkl', 'rb') as f:\n",
    "    texts = pickle.load(f)\n",
    "\n",
    "with open('pickle/dictionary.pkl', 'rb') as f:\n",
    "    dictionary = pickle.load(f)"
   ]
  },
  {
   "cell_type": "code",
   "execution_count": 30,
   "metadata": {},
   "outputs": [
    {
     "name": "stdout",
     "output_type": "stream",
     "text": [
      "Coherence Score: 0.7491921066382428\n"
     ]
    }
   ],
   "source": [
    "from gensim.models.coherencemodel import CoherenceModel\n",
    "\n",
    "coherencemodel = CoherenceModel(\n",
    "    model=lda_model, \n",
    "    texts=texts, \n",
    "    dictionary=dictionary, \n",
    "    coherence='c_v')\n",
    "\n",
    "coherence = coherencemodel.get_coherence()\n",
    "\n",
    "print(f\"Coherence Score: {coherence}\")"
   ]
  },
  {
   "attachments": {},
   "cell_type": "markdown",
   "metadata": {},
   "source": [
    "Dan menghasilkan nilai Coherence Score sebesar **0.75**."
   ]
  }
 ],
 "metadata": {
  "kernelspec": {
   "display_name": "Python 3",
   "language": "python",
   "name": "python3"
  },
  "language_info": {
   "codemirror_mode": {
    "name": "ipython",
    "version": 3
   },
   "file_extension": ".py",
   "mimetype": "text/x-python",
   "name": "python",
   "nbconvert_exporter": "python",
   "pygments_lexer": "ipython3",
   "version": "3.11.3"
  },
  "orig_nbformat": 4
 },
 "nbformat": 4,
 "nbformat_minor": 2
}
